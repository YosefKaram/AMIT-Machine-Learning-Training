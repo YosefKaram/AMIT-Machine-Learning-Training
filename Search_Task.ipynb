{
 "cells": [
  {
   "cell_type": "markdown",
   "id": "98cc32cc",
   "metadata": {},
   "source": [
    "# Dunder Method"
   ]
  },
  {
   "cell_type": "code",
   "execution_count": 38,
   "id": "c97cea10",
   "metadata": {},
   "outputs": [
    {
     "name": "stdout",
     "output_type": "stream",
     "text": [
      "<class '__main__.shop'>\n",
      "cutomer name yosf\n",
      "2\n"
     ]
    },
    {
     "data": {
      "text/plain": [
       "\"cutomer name yosf and his order is ['hp', 'lap']\""
      ]
     },
     "execution_count": 38,
     "metadata": {},
     "output_type": "execute_result"
    }
   ],
   "source": [
    "class shop() :\n",
    "    \n",
    "    def __init__(self,customer,cart):  #__init__ called automatic when creat a new instance\n",
    "        self.customer = customer\n",
    "        self.cart = cart\n",
    "    \n",
    "    def __str__(self):                 #__str__ to give a readable output of the opject\n",
    "        return f'cutomer name {self.customer}'\n",
    "\n",
    "    def __len__(self):                 #__len__ used to return the lenght ... call by use the len() built-in function \n",
    "        return len(self.cart)\n",
    "    \n",
    "    def __call__(self):                #__call__  return when call the object\n",
    "        return f'cutomer name {self.customer} and his order is {self.cart}' \n",
    "        \n",
    "        \n",
    "order1 = shop(\"yosf\",[\"hp\",\"lap\"])\n",
    "\n",
    "print(order1.__class__)                # .__class__  used to know the instance (order1) belongs to which class\n",
    "\n",
    "print(order1)                          # the readable o/p from __str__ method\n",
    "\n",
    "print(len(order1))\n",
    "\n",
    "order1()                               #call the object and return the o/p of __call__ method"
   ]
  },
  {
   "cell_type": "markdown",
   "id": "23e0b1fd",
   "metadata": {},
   "source": [
    "# *Args\n"
   ]
  },
  {
   "cell_type": "code",
   "execution_count": 13,
   "id": "a9e833a7",
   "metadata": {},
   "outputs": [
    {
     "data": {
      "text/plain": [
       "'the summation of the numbers 10'"
      ]
     },
     "execution_count": 13,
     "metadata": {},
     "output_type": "execute_result"
    }
   ],
   "source": [
    "def add_nums (*args):\n",
    "    \n",
    "    result = 0\n",
    "    \n",
    "    for x in args :\n",
    "        \n",
    "        result += x\n",
    "        \n",
    "    return f'the summation of the numbers {result}'\n",
    "\n",
    "add_nums(1,2,3,4)"
   ]
  },
  {
   "cell_type": "markdown",
   "id": "e630ad1f",
   "metadata": {},
   "source": [
    "# **kwargs"
   ]
  },
  {
   "cell_type": "code",
   "execution_count": 21,
   "id": "764896f3",
   "metadata": {},
   "outputs": [
    {
     "data": {
      "text/plain": [
       "'i  love  python  '"
      ]
     },
     "execution_count": 21,
     "metadata": {},
     "output_type": "execute_result"
    }
   ],
   "source": [
    "def fun(**kwargs):\n",
    "    \n",
    "    result=''\n",
    "    \n",
    "    for i in kwargs.values():\n",
    "        \n",
    "        result += i + ' '\n",
    "        \n",
    "    return result\n",
    "\n",
    "fun(x='i',y='love',z='python')"
   ]
  },
  {
   "cell_type": "markdown",
   "id": "f887ed58",
   "metadata": {},
   "source": [
    "# Encapsulation "
   ]
  },
  {
   "cell_type": "markdown",
   "id": "e1cddce0",
   "metadata": {},
   "source": [
    "### public"
   ]
  },
  {
   "cell_type": "code",
   "execution_count": 27,
   "id": "d1be2ccc",
   "metadata": {},
   "outputs": [
    {
     "name": "stdout",
     "output_type": "stream",
     "text": [
      "hp\n",
      "dell\n"
     ]
    }
   ],
   "source": [
    "class product():\n",
    "    def __init__(self , name ):\n",
    "        \n",
    "        self.name = name # public \n",
    "        \n",
    "lap = product('hp')\n",
    "print(lap.name)         # can access and edite from any paart of program\n",
    "lap.name = 'dell'\n",
    "print(lap.name)"
   ]
  },
  {
   "cell_type": "markdown",
   "id": "01636a39",
   "metadata": {},
   "source": [
    "### protected"
   ]
  },
  {
   "cell_type": "code",
   "execution_count": 28,
   "id": "557e62b0",
   "metadata": {},
   "outputs": [
    {
     "ename": "NameError",
     "evalue": "name '_name' is not defined",
     "output_type": "error",
     "traceback": [
      "\u001b[1;31m---------------------------------------------------------------------------\u001b[0m",
      "\u001b[1;31mNameError\u001b[0m                                 Traceback (most recent call last)",
      "\u001b[1;32m~\\AppData\\Local\\Temp/ipykernel_8376/2647317932.py\u001b[0m in \u001b[0;36m<module>\u001b[1;34m\u001b[0m\n\u001b[0;32m      4\u001b[0m         \u001b[0mself\u001b[0m\u001b[1;33m.\u001b[0m\u001b[0mname\u001b[0m \u001b[1;33m=\u001b[0m \u001b[0m_name\u001b[0m \u001b[1;31m# protected\u001b[0m\u001b[1;33m\u001b[0m\u001b[1;33m\u001b[0m\u001b[0m\n\u001b[0;32m      5\u001b[0m \u001b[1;33m\u001b[0m\u001b[0m\n\u001b[1;32m----> 6\u001b[1;33m \u001b[0mlap\u001b[0m \u001b[1;33m=\u001b[0m \u001b[0mproduct\u001b[0m\u001b[1;33m(\u001b[0m\u001b[1;34m'hp'\u001b[0m\u001b[1;33m)\u001b[0m\u001b[1;33m\u001b[0m\u001b[1;33m\u001b[0m\u001b[0m\n\u001b[0m\u001b[0;32m      7\u001b[0m \u001b[0mprint\u001b[0m\u001b[1;33m(\u001b[0m\u001b[0mlap\u001b[0m\u001b[1;33m.\u001b[0m\u001b[0mname\u001b[0m\u001b[1;33m)\u001b[0m         \u001b[1;31m# can access and edite from any paart of program\u001b[0m\u001b[1;33m\u001b[0m\u001b[1;33m\u001b[0m\u001b[0m\n",
      "\u001b[1;32m~\\AppData\\Local\\Temp/ipykernel_8376/2647317932.py\u001b[0m in \u001b[0;36m__init__\u001b[1;34m(self, name)\u001b[0m\n\u001b[0;32m      2\u001b[0m     \u001b[1;32mdef\u001b[0m \u001b[0m__init__\u001b[0m\u001b[1;33m(\u001b[0m\u001b[0mself\u001b[0m \u001b[1;33m,\u001b[0m \u001b[0mname\u001b[0m \u001b[1;33m)\u001b[0m\u001b[1;33m:\u001b[0m\u001b[1;33m\u001b[0m\u001b[1;33m\u001b[0m\u001b[0m\n\u001b[0;32m      3\u001b[0m \u001b[1;33m\u001b[0m\u001b[0m\n\u001b[1;32m----> 4\u001b[1;33m         \u001b[0mself\u001b[0m\u001b[1;33m.\u001b[0m\u001b[0mname\u001b[0m \u001b[1;33m=\u001b[0m \u001b[0m_name\u001b[0m \u001b[1;31m# protected\u001b[0m\u001b[1;33m\u001b[0m\u001b[1;33m\u001b[0m\u001b[0m\n\u001b[0m\u001b[0;32m      5\u001b[0m \u001b[1;33m\u001b[0m\u001b[0m\n\u001b[0;32m      6\u001b[0m \u001b[0mlap\u001b[0m \u001b[1;33m=\u001b[0m \u001b[0mproduct\u001b[0m\u001b[1;33m(\u001b[0m\u001b[1;34m'hp'\u001b[0m\u001b[1;33m)\u001b[0m\u001b[1;33m\u001b[0m\u001b[1;33m\u001b[0m\u001b[0m\n",
      "\u001b[1;31mNameError\u001b[0m: name '_name' is not defined"
     ]
    }
   ],
   "source": [
    "class product():\n",
    "    def __init__(self , name ):\n",
    "        \n",
    "        self.name = _name # protected can access the data with in the class that defined in or in the sub classes\n",
    "                          # protected used by adding one underscore before the methode or the attribute \n",
    "lap = product('hp')\n",
    "print(lap.name)         \n"
   ]
  },
  {
   "cell_type": "code",
   "execution_count": 30,
   "id": "df14805d",
   "metadata": {},
   "outputs": [
    {
     "name": "stdout",
     "output_type": "stream",
     "text": [
      "hp\n"
     ]
    }
   ],
   "source": [
    "class product():\n",
    "    def __init__(self ,name ):\n",
    "        \n",
    "        self._name = name # protected used by adding one underscore before the methode or the attribute\n",
    "        \n",
    "lap = product('hp')\n",
    "print(lap._name)          # the data can be access and edit from any part of the program when adding one underscore before the methode or the attribute"
   ]
  },
  {
   "cell_type": "markdown",
   "id": "c97564fd",
   "metadata": {},
   "source": [
    "### private"
   ]
  },
  {
   "cell_type": "code",
   "execution_count": 31,
   "id": "81f812c6",
   "metadata": {},
   "outputs": [
    {
     "ename": "AttributeError",
     "evalue": "'product' object has no attribute '__name'",
     "output_type": "error",
     "traceback": [
      "\u001b[1;31m---------------------------------------------------------------------------\u001b[0m",
      "\u001b[1;31mAttributeError\u001b[0m                            Traceback (most recent call last)",
      "\u001b[1;32m~\\AppData\\Local\\Temp/ipykernel_8376/3431171839.py\u001b[0m in \u001b[0;36m<module>\u001b[1;34m\u001b[0m\n\u001b[0;32m      7\u001b[0m \u001b[1;33m\u001b[0m\u001b[0m\n\u001b[0;32m      8\u001b[0m \u001b[0mlap\u001b[0m \u001b[1;33m=\u001b[0m \u001b[0mproduct\u001b[0m\u001b[1;33m(\u001b[0m\u001b[1;34m'hp'\u001b[0m\u001b[1;33m)\u001b[0m\u001b[1;33m\u001b[0m\u001b[1;33m\u001b[0m\u001b[0m\n\u001b[1;32m----> 9\u001b[1;33m \u001b[0mprint\u001b[0m\u001b[1;33m(\u001b[0m\u001b[0mlap\u001b[0m\u001b[1;33m.\u001b[0m\u001b[0m__name\u001b[0m\u001b[1;33m)\u001b[0m         \u001b[1;31m# can't access and edite from any part of program\u001b[0m\u001b[1;33m\u001b[0m\u001b[1;33m\u001b[0m\u001b[0m\n\u001b[0m",
      "\u001b[1;31mAttributeError\u001b[0m: 'product' object has no attribute '__name'"
     ]
    }
   ],
   "source": [
    "class product():\n",
    "    def __init__(self , name ):\n",
    "        \n",
    "        self.__name = name # private \n",
    "                           # used by adding double underscore before the methode or the attribute \n",
    "                           #The attributes and methods can be access from within the class only\n",
    "        \n",
    "lap = product('hp')\n",
    "print(lap.__name)         # can't access and edite from any part of program\n"
   ]
  },
  {
   "cell_type": "code",
   "execution_count": 37,
   "id": "ec16836c",
   "metadata": {},
   "outputs": [
    {
     "name": "stdout",
     "output_type": "stream",
     "text": [
      "hp\n"
     ]
    }
   ],
   "source": [
    "class product():\n",
    "    def __init__(self , name ):\n",
    "        \n",
    "        self.__name = name    # private \n",
    "        \n",
    "    def n(self)  :            \n",
    "        return self.__name    #can access to the private property cuz its inside the class  \n",
    "         \n",
    "lap = product('hp')\n",
    "\n",
    "print(lap.n()) "
   ]
  },
  {
   "cell_type": "code",
   "execution_count": null,
   "id": "b4270642",
   "metadata": {},
   "outputs": [],
   "source": []
  },
  {
   "cell_type": "code",
   "execution_count": null,
   "id": "e21e7d55",
   "metadata": {},
   "outputs": [],
   "source": []
  }
 ],
 "metadata": {
  "kernelspec": {
   "display_name": "Python 3 (ipykernel)",
   "language": "python",
   "name": "python3"
  },
  "language_info": {
   "codemirror_mode": {
    "name": "ipython",
    "version": 3
   },
   "file_extension": ".py",
   "mimetype": "text/x-python",
   "name": "python",
   "nbconvert_exporter": "python",
   "pygments_lexer": "ipython3",
   "version": "3.9.7"
  }
 },
 "nbformat": 4,
 "nbformat_minor": 5
}
