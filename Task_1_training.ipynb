{
 "cells": [
  {
   "cell_type": "code",
   "execution_count": 1,
   "id": "0ac27865",
   "metadata": {},
   "outputs": [
    {
     "name": "stdout",
     "output_type": "stream",
     "text": [
      "Enter two numbers with a space between them : 1 2\n"
     ]
    }
   ],
   "source": [
    "#taking two numbers at the same time using split\n",
    "\n",
    "x, y = input('Enter two numbers with a space between them : ').split()\n"
   ]
  },
  {
   "cell_type": "code",
   "execution_count": 2,
   "id": "0fd3b2c6",
   "metadata": {},
   "outputs": [],
   "source": [
    "#convert the data type into integer\n",
    "\n",
    "x=int(x)\n",
    "\n",
    "y=int(y)"
   ]
  },
  {
   "cell_type": "code",
   "execution_count": 3,
   "id": "4fecd28d",
   "metadata": {},
   "outputs": [
    {
     "name": "stdout",
     "output_type": "stream",
     "text": [
      "3\n"
     ]
    }
   ],
   "source": [
    "#adding the two input numbers and print the result\n",
    "\n",
    "z = x + y\n",
    "\n",
    "print(z)"
   ]
  },
  {
   "cell_type": "code",
   "execution_count": null,
   "id": "5d50c859",
   "metadata": {},
   "outputs": [],
   "source": []
  }
 ],
 "metadata": {
  "kernelspec": {
   "display_name": "Python 3 (ipykernel)",
   "language": "python",
   "name": "python3"
  },
  "language_info": {
   "codemirror_mode": {
    "name": "ipython",
    "version": 3
   },
   "file_extension": ".py",
   "mimetype": "text/x-python",
   "name": "python",
   "nbconvert_exporter": "python",
   "pygments_lexer": "ipython3",
   "version": "3.9.7"
  }
 },
 "nbformat": 4,
 "nbformat_minor": 5
}
