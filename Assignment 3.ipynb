{
 "cells": [
  {
   "cell_type": "markdown",
   "metadata": {},
   "source": [
    "# Assignment 3"
   ]
  },
  {
   "cell_type": "markdown",
   "metadata": {},
   "source": [
    "### Write a function to count the number 4 in a given list."
   ]
  },
  {
   "cell_type": "code",
   "execution_count": 1,
   "metadata": {},
   "outputs": [],
   "source": [
    "def count (list1):\n",
    "    \n",
    "    c=0              # variable with initial value 0 to counting \n",
    "     \n",
    "    for i in list1 : #loop each element i list \n",
    "        \n",
    "        if i == 4 :\n",
    "            \n",
    "            c+=1\n",
    "            \n",
    "    return c"
   ]
  },
  {
   "cell_type": "code",
   "execution_count": 3,
   "metadata": {},
   "outputs": [
    {
     "data": {
      "text/plain": [
       "4"
      ]
     },
     "execution_count": 3,
     "metadata": {},
     "output_type": "execute_result"
    }
   ],
   "source": [
    "count([1,2,3,4,4,4,4])"
   ]
  },
  {
   "cell_type": "markdown",
   "metadata": {},
   "source": [
    "### write a  function to check whether a number is divisible by another number."
   ]
  },
  {
   "cell_type": "code",
   "execution_count": 5,
   "metadata": {},
   "outputs": [],
   "source": [
    "def dev (num1 , num2):            #function cheak if the num1 is divisable by num2\n",
    "    \n",
    "    if num1 % num2 == 0 :\n",
    "        \n",
    "        return f'{num1} is divisble by {num2}'\n",
    "    \n",
    "    else:\n",
    "        \n",
    "        return f'{num1} is not divisble by {num2}'"
   ]
  },
  {
   "cell_type": "code",
   "execution_count": 8,
   "metadata": {},
   "outputs": [
    {
     "data": {
      "text/plain": [
       "'10 is divisble by 2'"
      ]
     },
     "execution_count": 8,
     "metadata": {},
     "output_type": "execute_result"
    }
   ],
   "source": [
    "dev (10 ,2)"
   ]
  },
  {
   "cell_type": "markdown",
   "metadata": {},
   "source": [
    "### write a function to find the maximum and minimum numbers from a sequence of numbers."
   ]
  },
  {
   "cell_type": "code",
   "execution_count": 11,
   "metadata": {},
   "outputs": [],
   "source": [
    "def find(my_list):\n",
    "    \n",
    "    x = 10000000              # initial value to cheack the min value \n",
    "    \n",
    "    y=0                       # initil value to cheack the max value\n",
    "    \n",
    "    for i in my_list :        #loop each element in list\n",
    "        \n",
    "        if i < x:            \n",
    "            \n",
    "            x = i\n",
    "            \n",
    "        elif i > y :\n",
    "            \n",
    "            y = i\n",
    "            \n",
    "    return f'the maximum number is {y} and the minimum number is {x}'"
   ]
  },
  {
   "cell_type": "code",
   "execution_count": 12,
   "metadata": {},
   "outputs": [
    {
     "data": {
      "text/plain": [
       "'the maximum number is 134 and the minimum number is 1'"
      ]
     },
     "execution_count": 12,
     "metadata": {},
     "output_type": "execute_result"
    }
   ],
   "source": [
    "find([1,2,5,7,9,134,5])"
   ]
  },
  {
   "cell_type": "markdown",
   "metadata": {},
   "source": [
    "### Write a Python function that takes two lists and returns True if they have at least one common member."
   ]
  },
  {
   "cell_type": "code",
   "execution_count": 27,
   "metadata": {},
   "outputs": [],
   "source": [
    "def take(list1,list2):\n",
    "    \n",
    "    z= False                  # flag with false as initial value \n",
    "    \n",
    "    for i in list1:\n",
    "        \n",
    "        for x in list2 :\n",
    "            \n",
    "            if i == x :\n",
    "                 \n",
    "                z = True      # change the flage \n",
    "                \n",
    "    return z             "
   ]
  },
  {
   "cell_type": "code",
   "execution_count": 30,
   "metadata": {},
   "outputs": [
    {
     "data": {
      "text/plain": [
       "True"
      ]
     },
     "execution_count": 30,
     "metadata": {},
     "output_type": "execute_result"
    }
   ],
   "source": [
    "l1=[0,8,67,6]\n",
    "\n",
    "l2=[6,5,5,3]\n",
    "\n",
    "take(l1,l2)"
   ]
  },
  {
   "cell_type": "markdown",
   "metadata": {},
   "source": [
    "### Write a Python function to calculate the factorial of a number (a non-negative integer). The function accepts the number from the user"
   ]
  },
  {
   "cell_type": "code",
   "execution_count": 46,
   "metadata": {},
   "outputs": [
    {
     "name": "stdout",
     "output_type": "stream",
     "text": [
      "enter the number to calculate the factorial5\n"
     ]
    },
    {
     "data": {
      "text/plain": [
       "120"
      ]
     },
     "execution_count": 46,
     "metadata": {},
     "output_type": "execute_result"
    }
   ],
   "source": [
    "def fac(x):\n",
    "   \n",
    "    if x == 1 :\n",
    "        \n",
    "        return 1\n",
    "    \n",
    "    else : \n",
    "        \n",
    "        return x * fac(x-1)  \n",
    "    \n",
    "z = int(input('enter the number to calculate the factorial'))  \n",
    "\n",
    "fac(z)"
   ]
  },
  {
   "cell_type": "code",
   "execution_count": null,
   "metadata": {},
   "outputs": [],
   "source": []
  },
  {
   "cell_type": "markdown",
   "metadata": {},
   "source": [
    "### Write a Python function to check whether a number is in a given range.\n",
    "\n",
    "### The range is from 3 to 11\n"
   ]
  },
  {
   "cell_type": "code",
   "execution_count": 105,
   "metadata": {},
   "outputs": [],
   "source": [
    "def cheak (x , l1):\n",
    "    \n",
    "    z = False                     #flag with false as initial value\n",
    "    \n",
    "    for i in l1 :\n",
    "        \n",
    "        if x == i :\n",
    "            \n",
    "            z = True\n",
    "            \n",
    "            return f'{x} is in range'\n",
    "            \n",
    "    if z==False :\n",
    "        \n",
    "        return f'{x} is out of range'"
   ]
  },
  {
   "cell_type": "code",
   "execution_count": 106,
   "metadata": {},
   "outputs": [],
   "source": [
    "l1=list(range(3,12,1))            # list with range from 3 to 11"
   ]
  },
  {
   "cell_type": "code",
   "execution_count": 108,
   "metadata": {},
   "outputs": [
    {
     "data": {
      "text/plain": [
       "'5 is in range'"
      ]
     },
     "execution_count": 108,
     "metadata": {},
     "output_type": "execute_result"
    }
   ],
   "source": [
    "cheak (5 , l1)                    # call the function"
   ]
  },
  {
   "cell_type": "markdown",
   "metadata": {},
   "source": [
    "### Write a  program to create the multiplication table (from 1 to 10) of a number."
   ]
  },
  {
   "cell_type": "code",
   "execution_count": 112,
   "metadata": {},
   "outputs": [],
   "source": [
    "def mul (x):\n",
    "    \n",
    "    l1=list(range(1,11,1))        # list with range from 1 to 10\n",
    "    \n",
    "    for i in l1:\n",
    "        \n",
    "        z = x * i\n",
    "        \n",
    "        print(f'{x} * {i} = {z}' )"
   ]
  },
  {
   "cell_type": "code",
   "execution_count": 113,
   "metadata": {},
   "outputs": [
    {
     "name": "stdout",
     "output_type": "stream",
     "text": [
      "5 * 1 = 5\n",
      "5 * 2 = 10\n",
      "5 * 3 = 15\n",
      "5 * 4 = 20\n",
      "5 * 5 = 25\n",
      "5 * 6 = 30\n",
      "5 * 7 = 35\n",
      "5 * 8 = 40\n",
      "5 * 9 = 45\n",
      "5 * 10 = 50\n"
     ]
    }
   ],
   "source": [
    "mul(5)"
   ]
  },
  {
   "cell_type": "markdown",
   "metadata": {},
   "source": [
    "#### LESSER OF TWO EVENS: Write a function that returns the lesser of two given numbers *if* both numbers are even, but returns the greater if one or both numbers are odd\n",
    "    lesser_of_two_evens(2,4) --> 2\n",
    "    lesser_of_two_evens(2,5) --> 5"
   ]
  },
  {
   "cell_type": "code",
   "execution_count": 115,
   "metadata": {},
   "outputs": [],
   "source": [
    "def lesser_of_two_evens(x,y):\n",
    "    \n",
    "    if x % 2 == 0 and y % 2 ==0 :     #if the two numbers is even\n",
    "        \n",
    "        if x < y :\n",
    "            \n",
    "            return x\n",
    "        \n",
    "        else :\n",
    "            \n",
    "            return y\n",
    "    \n",
    "    elif x % 2 != 0 or y % 2 !=0 :    # if one of two numbers is odd\n",
    "        \n",
    "        if x > y :\n",
    "            \n",
    "            return x \n",
    "        \n",
    "        else :\n",
    "            \n",
    "            return y"
   ]
  },
  {
   "cell_type": "code",
   "execution_count": 120,
   "metadata": {},
   "outputs": [
    {
     "data": {
      "text/plain": [
       "9"
      ]
     },
     "execution_count": 120,
     "metadata": {},
     "output_type": "execute_result"
    }
   ],
   "source": [
    "lesser_of_two_evens(3,9)"
   ]
  },
  {
   "cell_type": "markdown",
   "metadata": {},
   "source": [
    "# Task from session 4\n"
   ]
  },
  {
   "cell_type": "markdown",
   "metadata": {},
   "source": [
    "### get the first name , last name , gender and id from user and write them in file "
   ]
  },
  {
   "cell_type": "code",
   "execution_count": 3,
   "metadata": {},
   "outputs": [
    {
     "name": "stdout",
     "output_type": "stream",
     "text": [
      " enter first name : yousef\n",
      " enter last name : karam\n",
      " gender : m\n",
      " enter id : 555\n"
     ]
    }
   ],
   "source": [
    "def gett (x,y,z,v):\n",
    "\n",
    "    f =open(\"C:/Users/youse/OneDrive/Desktop/test.txt\",'a')\n",
    "    \n",
    "    f.write('\\n'+str(x))\n",
    "    f.write('\\n'+str(y))\n",
    "    f.write('\\n'+str(z))\n",
    "    f.write('\\n'+str(v))\n",
    "    f.close()\n",
    "\n",
    " \n",
    "\n",
    "fname=input(' enter first name : ')\n",
    "lname=input(' enter last name : ')\n",
    "gen=input(' gender : ')\n",
    "ID=int(input(' enter id : ')) \n",
    "\n",
    "if 999>ID>100 :         #  check that the Id has only 3 numbers\n",
    "    ID_c = ID\n",
    "    gett (fname ,lname,gen,ID_c)\n",
    "else:\n",
    "    print('wrong id')\n"
   ]
  },
  {
   "cell_type": "code",
   "execution_count": null,
   "metadata": {},
   "outputs": [],
   "source": []
  }
 ],
 "metadata": {
  "kernelspec": {
   "display_name": "Python 3 (ipykernel)",
   "language": "python",
   "name": "python3"
  },
  "language_info": {
   "codemirror_mode": {
    "name": "ipython",
    "version": 3
   },
   "file_extension": ".py",
   "mimetype": "text/x-python",
   "name": "python",
   "nbconvert_exporter": "python",
   "pygments_lexer": "ipython3",
   "version": "3.9.7"
  }
 },
 "nbformat": 4,
 "nbformat_minor": 2
}
